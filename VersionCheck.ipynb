{
 "cells": [
  {
   "cell_type": "code",
   "execution_count": 13,
   "metadata": {},
   "outputs": [
    {
     "name": "stdout",
     "output_type": "stream",
     "text": [
      "numpy version = 1.16.4\n",
      "matplotlib==3.1.0\n",
      "python version = 3.7.6 (default, Mar 13 2020, 15:31:01) \n",
      "[GCC 8.3.0]\n",
      "logging==0.5.1.2\n",
      "IPython==7.5.0\n",
      "ipywidgets==7.4.2\n",
      "tensorflow==1.14.0\n",
      "keras==2.2.4\n",
      "json==2.0.9\n"
     ]
    }
   ],
   "source": [
    "import numpy as np\n",
    "print(\"numpy version = \" + str(np.__version__))\n",
    "import matplotlib\n",
    "print(\"matplotlib==\" + str(matplotlib.__version__))\n",
    "import sys\n",
    "print(\"python version = \" + str(sys.version))\n",
    "import logging\n",
    "print(\"logging==\" + str(logging.__version__))\n",
    "import os\n",
    "# print(\"os==\" + str(os.__version__)) # no version\n",
    "from IPython.display import HTML, display\n",
    "import IPython\n",
    "print(\"IPython==\" + str(IPython.__version__))\n",
    "import ipywidgets\n",
    "print(\"ipywidgets==\" + str(ipywidgets.__version__))\n",
    "import tensorflow as tf\n",
    "print(\"tensorflow==\" + str(tf.__version__))\n",
    "import keras\n",
    "print(\"keras==\" + str(keras.__version__))\n",
    "import json\n",
    "print(\"json==\" + str(json.__version__))\n",
    "import contextlib\n",
    "# print(\"contextlib==\" + str(contextlib.__version__)) # no version"
   ]
  },
  {
   "cell_type": "code",
   "execution_count": null,
   "metadata": {},
   "outputs": [],
   "source": []
  }
 ],
 "metadata": {
  "kernelspec": {
   "display_name": "Python 3",
   "language": "python",
   "name": "python3"
  },
  "language_info": {
   "codemirror_mode": {
    "name": "ipython",
    "version": 3
   },
   "file_extension": ".py",
   "mimetype": "text/x-python",
   "name": "python",
   "nbconvert_exporter": "python",
   "pygments_lexer": "ipython3",
   "version": "3.7.6"
  }
 },
 "nbformat": 4,
 "nbformat_minor": 4
}
