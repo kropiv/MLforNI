{
 "cells": [
  {
   "cell_type": "markdown",
   "metadata": {},
   "source": [
    "# Create Toy Data for Nucear Interaction (NI) analysis"
   ]
  },
  {
   "cell_type": "code",
   "execution_count": 59,
   "metadata": {},
   "outputs": [
    {
     "name": "stdout",
     "output_type": "stream",
     "text": [
      "numpy version = 1.16.4\n",
      "python version = 3.7.6 (default, Mar 13 2020, 15:31:01) \n",
      "[GCC 8.3.0]\n"
     ]
    }
   ],
   "source": [
    "import numpy as np\n",
    "import matplotlib.pyplot as plt\n",
    "print(\"numpy version = \" + str(np.__version__))\n",
    "import sys\n",
    "print(\"python version = \" + str(sys.version))"
   ]
  },
  {
   "cell_type": "code",
   "execution_count": 72,
   "metadata": {},
   "outputs": [
    {
     "name": "stdout",
     "output_type": "stream",
     "text": [
      "n_BPIX  befor = [2000, 10000, 10000, 6000, 6000, 4000, 4000, 3000, 3000, 1000]\n",
      "n_BPIX  after = [ 2000 10000 10000  6000  6000  4000  4000  3000  3000  1000]\n",
      "x shape = (591000,)\n",
      "y shape = (591000,)\n",
      "z shape = (591000,)\n",
      "fracRandom = [-0.19246673  0.15231096  0.79219197  0.57250346 -0.77193521 -0.08734071\n",
      "  0.72362562  0.29567183 -0.30053404  0.12570818  0.40234362 -0.12592116\n",
      " -0.21364343 -0.89395433  0.15156263  0.64243351 -0.82408561 -0.23985279\n",
      " -0.9147548   0.26267606  0.08002083  0.43195771  0.32715363]\n",
      "var_Signal shape = (91000, 23)\n",
      "var_Bkg shape = (500000, 23)\n",
      "var shape = (591000, 23)\n",
      "Xdata.shape = (591000, 27)\n"
     ]
    }
   ],
   "source": [
    "# fix genrator seed:\n",
    "np.random.seed(10)\n",
    "\n",
    "def CalcRad(xpos, ypos):\n",
    "    Rad = np.sqrt(np.square(xpos)+np.square(ypos))\n",
    "    Rad_BP = np.sqrt(np.square(xpos-0.171)+np.square(ypos+0.176))\n",
    "    Rad_BPIX = np.sqrt(np.square(xpos-0.086)+np.square(ypos+0.102))\n",
    "    Rad_Tube = np.sqrt(np.square(xpos+0.080)+np.square(ypos+0.318))\n",
    "    return Rad, Rad_BP, Rad_BPIX, Rad_Tube\n",
    "\n",
    "def StructureGen(pos, lw, lw_corr, ngen, x0, y0):\n",
    "    lenth = np.size(ngen)\n",
    "    for i in range(0,lenth):\n",
    "        r_gen = np.random.normal(loc=pos[i], scale=lw[i]/lw_corr[i], size=ngen[i])\n",
    "        phi_gen = np.random.uniform(low=-np.pi, high=np.pi, size=ngen[i])\n",
    "        x_gen = np.multiply(r_gen, np.cos(phi_gen)) + x0\n",
    "        y_gen = np.multiply(r_gen, np.sin(phi_gen)) + y0\n",
    "        z_gen = np.random.uniform(low=-25., high=25., size=ngen[i])\n",
    "        if i == 0:\n",
    "            x_str, y_str, z_str = x_gen, y_gen, z_gen\n",
    "        else:\n",
    "            x_str = np.concatenate(([x_str,x_gen]),axis=0)\n",
    "            y_str = np.concatenate(([y_str,y_gen]),axis=0)\n",
    "            z_str = np.concatenate(([z_str,z_gen]),axis=0)\n",
    "    return x_str, y_str, z_str\n",
    "\n",
    "def varGen(varName, varMean, varSigma, Rad):\n",
    "    var_lenth = np.size(varName)\n",
    "#     print(\"var_lenth size = \" + str(np.size(varName)))\n",
    "    sample_size = np.size(Rad)\n",
    "    for i in range(0,var_lenth):\n",
    "        varM = varMean[i]*(1. + Rad/50.) # small scale: with Raduis variable are changes slightly Rad between 0 and 25\n",
    "        varS = varSigma[i]*(1. + Rad/50.)\n",
    "#         print(\"varM shape = \" + str(varM.shape))\n",
    "        var_gen = np.random.normal(loc=varM, scale=varS, size=sample_size)\n",
    "        if i == 0:\n",
    "            var_tot = var_gen\n",
    "        else:\n",
    "            var_tot = np.c_[var_tot,var_gen]\n",
    "\n",
    "    return var_tot\n",
    "\n",
    "scale = 1 # should be int\n",
    "# generate background:\n",
    "# https://en.wikipedia.org/wiki/Noncentral_chi-squared_distribution\n",
    "n_bkg = 500000*scale\n",
    "r_bkg   = np.random.noncentral_chisquare(df=3, nonc=2, size=n_bkg)\n",
    "r_bkg   = r_bkg + 1.\n",
    "phi_bkg = np.random.uniform(low=-np.pi, high=np.pi, size=n_bkg)\n",
    "x_bkg = np.multiply(r_bkg, np.cos(phi_bkg))\n",
    "y_bkg = np.multiply(r_bkg, np.sin(phi_bkg))\n",
    "z_bkg = np.random.uniform(low=-25., high=25., size=n_bkg)\n",
    "\n",
    "# beam pipe position and Radius is taken from CMS-DP-2019-001 (http://cds.cern.ch/record/2664786?ln=en)\n",
    "# generate beam pipe (BP):\n",
    "n_BP = [30000*scale]\n",
    "# in R_BP centered at BP\n",
    "xSignal_BP =    [2.21]\n",
    "lw_Signal_BP =  [0.1]\n",
    "lw_corr_BP =    [3.5]\n",
    "x0_BP, y0_BP = 0.171, -0.176\n",
    "x_BP, y_BP, z_BP = StructureGen(xSignal_BP, lw_Signal_BP, lw_corr_BP, n_BP, x0_BP, y0_BP)\n",
    "\n",
    "\n",
    "# BPIX position is taken from Figure. 4.1 at CMS-TDR-11 (https://cds.cern.ch/record/1481838?ln=en)\n",
    "# generate BPIX:  \n",
    "#          Inner Shield      L1_1    L1_2    L2_1  L2_2     L3_1   L3_2      L4_1   L4_2   Outer Shield      \n",
    "# xSignal_BPIX = [2.49,        2.78,    3.01,   6.61, 6.90,    10.73, 11.02,    15.84, 16.13, 18.45]\n",
    "xSignal_BPIX =   [2.49,        2.8,     3.10,   6.65, 6.98,    10.80, 11.10,    15.84, 16.13, 18.65]\n",
    "lw_Signal_BPIX =  [0.055,    0.2,    0.2,    0.2,  0.2,     0.2,  0.2,   0.2,    0.2,   0.2]\n",
    "lw_corr_BPIX  =   [2.,        3.,      3.,    3.,     3.,    3.,      3.,   3.,     3.,    3.]\n",
    "n_BPIX =       [2000,        10000,   10000,   6000, 6000,  4000,  4000,     3000, 3000,   1000]\n",
    "print(\"n_BPIX  befor = \" +str(n_BPIX ))\n",
    "n_BPIX = np.multiply(n_BPIX,scale)\n",
    "print(\"n_BPIX  after = \" +str(n_BPIX ))\n",
    "\n",
    "x0_BPIX, y0_BPIX = 0.086, -0.102\n",
    "x_BPIX, y_BPIX, z_BPIX = StructureGen(xSignal_BPIX, lw_Signal_BPIX, lw_corr_BPIX, n_BPIX, x0_BPIX, y0_BPIX)\n",
    "\n",
    "#tube position and Radius is taken from CMS-DP-2019-001 (http://cds.cern.ch/record/2664786?ln=en)\n",
    "# generate Tube:\n",
    "xSignal_Tube   =  [21.75] # avarige of Rx and Ry\n",
    "lw_Signal_Tube =  [0.4]\n",
    "lw_corr_Tube =    [3.5]\n",
    "n_Tube = [10000*scale]\n",
    "x0_Tube, y0_Tube = -0.080, -0.318\n",
    "x_Tube, y_Tube, z_Tube = StructureGen(xSignal_Tube, lw_Signal_Tube, lw_corr_Tube, n_Tube, x0_Tube, y0_Tube)\n",
    "\n",
    "#Rails position and Radius is taken from CMS-DP-2019-001 (http://cds.cern.ch/record/2664786?ln=en)\n",
    "# generate Rails:\n",
    "n_Rails = 1000*scale\n",
    "ySignal_TopRail = 19.08\n",
    "ySignal_BotRail = -19.73\n",
    "lw_yRail = 1.\n",
    "xmin, xmax = -5, 5\n",
    "x_TopRail = np.random.uniform(low=xmin, high=xmax, size=n_Rails)\n",
    "y_TopRail = np.random.uniform(low=ySignal_TopRail, high=(ySignal_TopRail+lw_yRail), size=n_Rails)\n",
    "z_TopRail = np.random.uniform(low=-25., high=25., size=n_Rails)\n",
    "x_BotRail = np.random.uniform(low=xmin, high=xmax, size=n_Rails)\n",
    "y_BotRail = np.random.uniform(low=(ySignal_BotRail-lw_yRail), high=ySignal_BotRail, size=n_Rails)\n",
    "z_BotRail = np.random.uniform(low=-25., high=25., size=n_Rails)\n",
    "\n",
    "x_sig = np.concatenate(([x_BP,x_BPIX,x_Tube,x_TopRail,x_BotRail]),axis=0)\n",
    "y_sig = np.concatenate(([y_BP,y_BPIX,y_Tube,y_TopRail,y_BotRail]),axis=0)\n",
    "z_sig = np.concatenate(([z_BP,z_BPIX,z_Tube,z_TopRail,z_BotRail]),axis=0)\n",
    "x = np.concatenate(([x_bkg,x_sig]),axis=0)\n",
    "y = np.concatenate(([y_bkg,y_sig]),axis=0)\n",
    "z = np.concatenate(([z_bkg,z_sig]),axis=0)\n",
    "\n",
    "print(\"x shape = \" +str(x.shape))\n",
    "print(\"y shape = \" +str(y.shape))\n",
    "print(\"z shape = \" +str(z.shape))\n",
    "\n",
    "lenth_sig = np.size(x_sig)\n",
    "lenth_bkg = np.size(x_bkg)\n",
    "# create 23 input variables with gaussian, the same sigma for S and B, but 10% larger in S for mean \n",
    "\n",
    "var_Name     =  np.asarray([\"ver\", \"NI\", \"pT1\",\"pT2\", \"pT3\", \"eta1\", \"eta2\", \"eta3\", \"phi1\",  \"phi2\", \"phi3\", \n",
    "                 \"chi2_1\", \"chi2_2\", \"chi2_3\", \"normchi2_1\", \"normchi2_2\",\"normchi2_3\",\n",
    "                 \"hits1\",\"hits2\", \"hits3\", \"algo1\", \"algo2\", \"algo3\"])\n",
    "# print(\"var_Name shape = \" + str(var_Name.shape))\n",
    "var_Mean_Sig =  np.asarray([20.,   1.1,   1.5,  1.,    0.5,   0.,     0.,       0.,      0.,     0.,     0.,\n",
    "                 20.,      15.,      12.,    1.2,         1.,          0.8,\n",
    "                 20.,  15.,  10.,           10., 9., 8.])\n",
    "var_Sigma =     np.asarray([10.,   0.3,   0.3, 0.3,    0.3,   1.,    1.,       1.,   np.pi,  np.pi, np.pi,\n",
    "                 10.,    8.,         5.,    0.5,          0.4,         0.3,\n",
    "                 5.,   4.,    3.,           5.,  4., 3.])\n",
    "# mean less/more by 0-10% of sigma generated randomly\n",
    "# fracRandom = z_BotRail = np.random.uniform(low=-0.5, high=0.5, size=var_Sigma.size) # half-by-half NN separation power\n",
    "fracRandom = z_BotRail = np.random.uniform(low=-1., high=1., size=var_Sigma.size)\n",
    "var_Mean_Bkg = var_Mean_Sig-np.multiply(fracRandom,var_Sigma)\n",
    "print(\"fracRandom = \" + str(fracRandom))\n",
    "\n",
    "# generate signal input variables:\n",
    "Radius = CalcRad(x_sig,y_sig)[0]\n",
    "var_Signal = varGen(var_Name, var_Mean_Sig, var_Sigma, np.asarray(Radius))\n",
    "\n",
    "# generate background input variables:\n",
    "Radius = CalcRad(x_bkg,y_bkg)[0]\n",
    "var_Bkg = varGen(var_Name, var_Mean_Bkg, var_Sigma, np.asarray(Radius))\n",
    "\n",
    "print(\"var_Signal shape = \" + str(var_Signal.shape))\n",
    "print(\"var_Bkg shape = \" + str(var_Bkg.shape))\n",
    "\n",
    "# merge Signal and Background\n",
    "var = np.r_[var_Bkg,var_Signal]\n",
    "print(\"var shape = \" + str(var.shape))\n",
    "\n",
    "# merge var and positions 1st bkg, after signal\n",
    "num = np.asarray(range(0,np.size(x)))\n",
    "Xdata = np.c_[num,np.asarray(x),np.asarray(y),np.asarray(z),var]\n",
    "print(\"Xdata.shape = \" + str(Xdata.shape))"
   ]
  },
  {
   "cell_type": "code",
   "execution_count": 73,
   "metadata": {},
   "outputs": [],
   "source": [
    "# save Xdata to file:\n",
    "import os\n",
    "\n",
    "fcsv = \"Results/ToyData.csv\"\n",
    "os.system('rm ' + fcsv)\n",
    "filecsv = open(fcsv,'wb')\n",
    "np.savetxt(filecsv, Xdata, delimiter=',',fmt='%f', newline = \"\\n\")\n",
    "filecsv.close()"
   ]
  },
  {
   "cell_type": "code",
   "execution_count": 29,
   "metadata": {},
   "outputs": [
    {
     "data": {
      "image/png": "[encoded data removed]",
      "text/plain": [
       "<Figure size 1080x504 with 1 Axes>"
      ]
     },
     "metadata": {
      "needs_background": "light"
     },
     "output_type": "display_data"
    },
    {
     "data": {
      "image/png": "[encoded data removed]",
      "text/plain": [
       "<Figure size 504x504 with 1 Axes>"
      ]
     },
     "metadata": {
      "needs_background": "light"
     },
     "output_type": "display_data"
    }
   ],
   "source": [
    "Radius, Radius_BP, Radius_BPIX, Radius_Tube = CalcRad(x,y)\n",
    "\n",
    "# Rad = Radius_BP\n",
    "Rad = Radius_BPIX\n",
    "\n",
    "fig, ax = plt.subplots(1,1,  figsize=(15,7)) \n",
    "\n",
    "labelData = \"Toy Data\"\n",
    "# Rmin, Rmax = 1.5, 3.\n",
    "Rmin, Rmax = 0, 25.\n",
    "num_bins = 1250\n",
    "n, bins, patches = ax.hist(Rad[np.logical_and(Rad > Rmin, Rad < Rmax)], num_bins,\n",
    "                           range = [Rmin, Rmax],label=labelData)\n",
    "\n",
    "ax.legend(loc=\"upper right\",framealpha=1.)\n",
    "ax.set_xlabel('generated radius (cm)')\n",
    "ax.set_ylabel('Entries/(%1.2f mm)'%(10*(bins[1]-bins[0]))) \n",
    "plt.savefig('Results/Toy_Radius.pdf')\n",
    "plt.show()\n",
    "\n",
    "fig, ax = plt.subplots(1,1,  figsize=(7,7))\n",
    "Rmin, Rmax = -np.pi, np.pi\n",
    "num_bins = 200\n",
    "n, bins, patches = ax.hist(phi_bkg[np.logical_and(phi_bkg > Rmin, phi_bkg < Rmax)], num_bins,\n",
    "                           range = [Rmin, Rmax],label=labelData)\n",
    "\n",
    "ax.legend(loc=\"upper right\",framealpha=1.)\n",
    "ax.set_xlabel('generated $\\phi$ (rad))')\n",
    "ax.set_ylabel('Entries/(%1.2f)'%(10*(bins[1]-bins[0]))) \n",
    "plt.savefig('Results/Toy_Radius.pdf')\n",
    "plt.show()\n"
   ]
  },
  {
   "cell_type": "code",
   "execution_count": null,
   "metadata": {},
   "outputs": [],
   "source": []
  }
 ],
 "metadata": {
  "kernelspec": {
   "display_name": "Python 3",
   "language": "python",
   "name": "python3"
  },
  "language_info": {
   "codemirror_mode": {
    "name": "ipython",
    "version": 3
   },
   "file_extension": ".py",
   "mimetype": "text/x-python",
   "name": "python",
   "nbconvert_exporter": "python",
   "pygments_lexer": "ipython3",
   "version": "3.7.6"
  }
 },
 "nbformat": 4,
 "nbformat_minor": 4
}
